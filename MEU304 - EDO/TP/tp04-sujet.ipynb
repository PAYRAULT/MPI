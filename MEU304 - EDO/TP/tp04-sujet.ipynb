{
 "cells": [
  {
   "cell_type": "code",
   "execution_count": 2,
   "metadata": {},
   "outputs": [],
   "source": [
    "import numpy as np\n",
    "import scipy as sp\n",
    "\n",
    "import matplotlib.pyplot as plt\n",
    "from scipy.integrate import odeint\n",
    "from numpy.linalg import inv"
   ]
  },
  {
   "cell_type": "markdown",
   "metadata": {
    "deletable": false
   },
   "source": [
    "$\\newcommand{\\R}{\\mathbb{R}}$\n",
    "$\\newcommand{\\N}{\\mathbb{N}}$\n",
    "\n",
    "#  TP 4 : Schémas numériques  pour les EDO\n",
    "\n",
    "L'objectif de ce TP est de mettre en oeuvre différents schémas numériques pour approcher la solution d'une équation différentielle ordinaire. Nous allons considérer différents schémas numériques, dont certains  nous n'avons pas encore vus en cours. L'objectif est de comprendre ce que c'est une solution approchée donnée par une méthode numérique, mais aussi de comprendre des notions comme l' erreur entre la solution exacte et la solution approchée, la  convergence d'une méthode numérique et l' ordre de précision d'une méthode numérique\n",
    "\n",
    "\n",
    "\n",
    "Dans ce TP on considère des équations différentielles ordinaires, ou des systèmes d'équations différentielles ordinaires, de la forme\n",
    "\\begin{equation}\n",
    "\\label{EDO}\n",
    "\\left\\{\\begin{aligned}\n",
    "  y'(t) & =  f(t,y(t)), \\\\\n",
    "  y(t_0) & =  y_0,\n",
    "\\end{aligned} \\right.\n",
    "\\tag{EDO}\n",
    "\\end{equation}\n",
    "\n",
    "où $f$ : $I \\times \\R^n \\longrightarrow \\R^n$ est une\n",
    "fonction dans les conditions du théorème de Cauchy-Lipschitz, avec $I\\subseteq\\R$ un intervalle ouvert de $\\R$ et où $(t_0,y_0)\\in I\\times\\R^n$ est donné. Le problème de Cauchy (EDO) admet alors une unique solution maximale définie dans un intervalle ouvert $J\\subseteq I$.\n",
    "\n",
    "\n",
    "On souhaite calculer une solution approchée de ce problème dans un intervalle de la forme $[t_0,t_f]=[t_0,t_0+T]\\subseteq J$, avec $T>0$. Pour ce faire, on se donne $N\\in\\N$ et on considère une discrétisation de $[t_0,t_0+T]$ de pas $h=\\frac TN,$ donnée par les points \n",
    "$$\n",
    "t_0< t_1< \\cdots <t_N=t_0+T,\\ \\ \\ t_n=nh,\\ n=0,\\dots,N,\n",
    "$$\n",
    "et l'on utilise un schéma numérique afin de calculer une approximation $y^n$ de $y(t_n)$ pour $n=0,\\dots,N$. \n",
    "\n",
    "Les schémas qui suivent sont fréquemment utilisés pour discrétiser le problème (EDO). On pose $y^0=y_0,\\,$ et, pour $n=0,\\dots,N-1,$ \n",
    "\n",
    "\n",
    "\n",
    "- **Euler explicite** :   $y^{n+1}=y^{n}+h f(t_n,y^{n})$ où   $f^{n}=f(t_n,y^{n})$ ;\n",
    "\n",
    "\n",
    "- **Euler implicite** :   $y^{n+1}=y^{n}+h f(t_{n+1},y^{n+1})$ où $f^{n+1}=f(t_{n+1},y^{n+1})$ ;\n",
    "\n",
    "\n",
    "-  **Heun** :  $y^{n+1}=y^{n}+\\frac{h}{2}\\big(f(t_n,y^{n})+f\\big(t_n+h,y^{n}+h f(t_n,y^{n})\\big)\\big)$ où $p_1=f(t_n,y^{n})$ et $p_2=f(t_n+h,y^{n}+h p_1)$ ;\n",
    "\n",
    "\n",
    "- **Crank-Nicolson** :  $y^{n+1}=y^{n}+\\frac{h}{2}\\big(f(t_{n},y^{n})+f(t_{n+1},y^{n+1})\\big)$ où $f^{n}=f(t_{n},y^{n})$, $f^{n+1}=f(t_{n+1},y^{n+1})$ ;\n",
    "\n",
    "\n",
    "\n",
    "- **Runge Kutta 4** :  $y^{n+1}=y^{n}+\\frac{h}{6}(p_1+2p_2+2p_3+p_4)$ où $p_1=f(t_n,y^{n})$, $p_2=f(t_n+\\frac{h}{2},y^{n}+\\frac{h}{2} p_1)$, $p_3=f(t_n+\\frac{h}{2},y^{n}+\\frac{h}{2} p_2)$ et $p_4=f(t_n+h,y^{n}+h p_3)$.\n",
    "\n",
    "\n"
   ]
  },
  {
   "cell_type": "markdown",
   "metadata": {
    "deletable": false
   },
   "source": [
    "### Exercice 1 : Méthodes implicites\n",
    "\n",
    "On s'intéresse aux schémas de Euler implicite et de Crank-Nicolson.\n",
    "\n",
    " Considérons le problème \n",
    "$$\n",
    "(P_1)\\ \\ \\ \\ \n",
    "\\begin{cases}\n",
    "\\begin{cases}\n",
    "x'=-y,\\\\\n",
    "y'=x,\n",
    "\\end{cases}\\\\[4pt]\n",
    "\\ x(0)=1,\\ \\ y(0)=0, \n",
    "\\end{cases}\n",
    "$$\n",
    "**Q1)** Sans déterminer la solution analytique de ce problème, montrer que sa trajectoire décrit un cercle, dont le centre est l'origine, dans le plan $(x,y)$.\n",
    "\n",
    "*La trajectoire d'une solution $t\\in J\\mapsto(x(t),y(t))$ d'une EDO est la courbe\n",
    "      $$\n",
    "\\{(x(t),y(t))\\,|\\,t\\in J\\}.\n",
    "      $$*\n",
    "      \n",
    "**Q2)** Calculer les solutions approchées de $(P_1)$ données par le schéma d'Euler explicite, par le schéma d'Euler implicite et par le schéma de Crank-Nicolson, associées, à chaque fois, à des discrétisations de l'intervalle $[0,4 \\pi]$ de 100, 200 et 400 points.\n",
    "\n",
    "**Remarque :** dans le cas des schémas implicites (Euler implicite et Crank-Nicolson), il n'est pas possible de programmer une fonction à l'image des fonctions `Heun(fct, t0, tf, y0, h)` et `euler_exp(fct, t0, tf, y0, h)`. Comme le problème $(P_1)$ est linéaire, on peut expliciter la relation qui donne $(x^{n+1},y^{n+1})$ en fonction de $(x^n,y^n),$ pour les deux schémas. Dans le cas d'un problème non linéaire, l'explicitation des schémas implicites n'est pas toujours possible. Dans ce cas, pour programmer ces méthodes, il faut utiliser une méthode de résolution approchée d'équations non linéaires (comme par exemple la méthode de Newton) pour résoudre l'équation qui donne un terme en fonction du précédent."
   ]
  },
  {
   "cell_type": "code",
   "execution_count": 60,
   "metadata": {},
   "outputs": [],
   "source": [
    "def heun (fct,t0,tf,X0,h):\n",
    "    t = np.arange(t0,tf+h,h)\n",
    "    N = t.size\n",
    "    l = len(X0)\n",
    "    x=np.zeros((N,l))\n",
    "    y=np.zeros((N,l))\n",
    "    x[0,:]=X0[0]\n",
    "    y[0,:]=X0[1]\n",
    "    for n in range (N-1):\n",
    "        xn1, yn1 = fct(t[n], x[n], y[n])\n",
    "        xn2, yn2 = fct(t[n] + h, x[n]+ h*xn1, y[n]+h*yn1)\n",
    "        x[n+1] = x[n]+(h/2)*(xn1 + xn2)\n",
    "        y[n+1] = y[n]+(h/2)*(yn1 + yn2)\n",
    "    return t,x,y\n",
    "\n",
    "def euler_exp(fct, t0, tf, X0, h):\n",
    "    t = np.arange(t0,tf+h,h)\n",
    "    N = t.size\n",
    "    l = len(X0)\n",
    "    x=np.zeros((N,l))\n",
    "    y=np.zeros((N,l))\n",
    "    x[0,:]=X0[0]\n",
    "    y[0,:]=X0[1]\n",
    "    for n in range(N-1):\n",
    "        xn,yn = fct(t[n],x[n],y[n])\n",
    "        x[n+1]=x[n]+h*xn\n",
    "        y[n+1]=y[n]+h*yn\n",
    "    return t,x,y\n",
    "\n",
    "\n",
    "def euler_imp(fct, t0, tf, X0, h):\n",
    "    t = np.arange(t0,tf+h,h)\n",
    "    N = t.size\n",
    "    l = len(X0)\n",
    "    x=np.zeros((N,l))\n",
    "    y=np.zeros((N,l))\n",
    "    x[0,:]=X0[0]\n",
    "    y[0,:]=X0[1]\n",
    "    for n in range(N-1):\n",
    "        xn1,yn1 = fct(t[n+1],x[n+1],y[n+1])\n",
    "        x[n+1]=x[n]+h*xn1\n",
    "        y[n+1]=y[n]+h*yn1\n",
    "    return t,x,y\n",
    "\n",
    "def crank_nicolson(fct, rel, t0, tf, X0, h):\n",
    "    t = np.arange(t0,tf+h,h)\n",
    "    N = t.size\n",
    "    l = len(X0)\n",
    "    x=np.zeros((N,l))\n",
    "    y=np.zeros((N,l))\n",
    "    x[0,:]=X0[0]\n",
    "    y[0,:]=X0[1]\n",
    "    for n in range(N-1):\n",
    "        xn, yn = fct(t[n], x[n], y[n])\n",
    "        xr, yr = rel(t, x[n], y[n])\n",
    "        xn1, yn1 = fct(t[n+1], xr, yr)\n",
    "        x[n+1] = x[n]+(h/2)*(xn + xn1)\n",
    "        y[n+1] = y[n]+(h/2)*(yn + yn1)\n",
    "    return t,x,y\n"
   ]
  },
  {
   "cell_type": "code",
   "execution_count": 61,
   "metadata": {},
   "outputs": [
    {
     "data": {
      "image/png": "[encoded data removed]",
      "text/plain": [
       "<Figure size 432x288 with 1 Axes>"
      ]
     },
     "metadata": {
      "needs_background": "light"
     },
     "output_type": "display_data"
    },
    {
     "data": {
      "image/png": "[encoded data removed]",
      "text/plain": [
       "<Figure size 432x288 with 1 Axes>"
      ]
     },
     "metadata": {
      "needs_background": "light"
     },
     "output_type": "display_data"
    },
    {
     "data": {
      "image/png": "[encoded data removed]",
      "text/plain": [
       "<Figure size 432x288 with 1 Axes>"
      ]
     },
     "metadata": {
      "needs_background": "light"
     },
     "output_type": "display_data"
    },
    {
     "data": {
      "image/png": "[encoded data removed]",
      "text/plain": [
       "<Figure size 432x288 with 1 Axes>"
      ]
     },
     "metadata": {
      "needs_background": "light"
     },
     "output_type": "display_data"
    }
   ],
   "source": [
    "def f(t,xn,yn):\n",
    "    xn1 = -yn\n",
    "    yn1 = xn\n",
    "    return(xn1,yn1)\n",
    "\n",
    "def rel(t,xn,yn):\n",
    "    xn1 = yn\n",
    "    yn1 = -xn\n",
    "    return(xn1,yn1)\n",
    "\n",
    "\n",
    "t8, x8,y8 = euler_exp(f, 0,4*np.pi,[1,0],1/400)\n",
    "plt.plot(x8,y8)\n",
    "plt.show()\n",
    "\n",
    "t9,x9,y9 = heun(f, 0,2*np.pi,[1,0],1/400)\n",
    "plt.plot(x9,y9)\n",
    "plt.show()\n",
    "\n",
    "t10,x10,y10 = euler_imp(f, rel, 0,2*np.pi,[1,0],1/400)\n",
    "plt.plot(x10,y10)\n",
    "plt.show()\n",
    "\n",
    "t11,x11,y11 = crank_nicolson(f, rel, 0,2*np.pi,[1,0],1/400)\n",
    "plt.plot(x11,y11)\n",
    "plt.show()"
   ]
  },
  {
   "cell_type": "markdown",
   "metadata": {
    "deletable": false
   },
   "source": [
    "**Q3)** Dans une même figure, représenter dans le plan $(x,y)$ les trajectoires des solutions approchées obtenues avec chacune des trois méthodes. Qu'observe-t-on ? Décrivent-elles la même courbe que la solution exacte ? Caractériser analytiquement les trajectoires des solutions numériques obtenues avec chacune des méthodes. Pour ce faire étudier l'équation vérifiée par $(x^{n+1})^2+(y^{n+1})^2$."
   ]
  },
  {
   "cell_type": "code",
   "execution_count": 6,
   "metadata": {},
   "outputs": [],
   "source": [
    "# <completer>\n"
   ]
  },
  {
   "cell_type": "markdown",
   "metadata": {
    "deletable": false
   },
   "source": [
    "**Q4)** Donner la solution analytique de $(P_1)$ et la comparer avec les solutions approchées.\n",
    "\n"
   ]
  },
  {
   "cell_type": "code",
   "execution_count": 7,
   "metadata": {},
   "outputs": [],
   "source": [
    "# <completer>\n"
   ]
  },
  {
   "cell_type": "markdown",
   "metadata": {
    "deletable": false
   },
   "source": [
    "### Exercice 2 : Méthodes d'ordre supérieur.\n",
    "\n",
    "**Problèmes raides**\n",
    "\n",
    "Nous nous intéressons ici au cas des problèmes *raides* suivants :\n",
    "\n",
    "- Le problème\n",
    "$$\n",
    "(P_2)\\ \\ \\ \\ \n",
    "\\begin{cases}\n",
    "y'(t)  =   -100 y(t) + 10 t  + 1/10,  \\\\\n",
    "y(0)  =   1/10,   \n",
    "\\end{cases}\n",
    "$$\n",
    "dont la solution exacte est donnée par\n",
    "$$\n",
    "y(t) = \\frac{t+e^{-100 t}}{10}.\n",
    "$$\n",
    "On prendra l'intervalle $[0,0.5]$ et un pas $h=0.01$ dans les tests numériques.\n",
    "\n",
    "- Le modèle de Van Der Pol \n",
    "$$\n",
    "(P_3)\\ \\ \\ \\ \n",
    "\\begin{cases}\n",
    "y''(t)  =    (a-y(t)^2) y'(t) - y(t),\\\\\n",
    "y(0)  =   \\frac{1}{10},\\ \\ y'(0)  = 1,  \n",
    "\\end{cases}\n",
    "$$\n",
    "qui n'a pas de solution analytique, autrement dit dont la solution on ne sait pas calculer, même si elle existe (c'est une conséquence du théorème de Cauchy-Lipschitz). On prendra $a=5$ ou $a=8$, $[t_0,t_f] =[0, 20]$ dans les tests numériques.\n",
    "\n",
    "**Remarque :** il n'est pas simple de définir ce que c'est une équation **raide**. Il s'agit d'équations dont les solutions présentent de grandes variations initiales ou de systèmes d'équations où les échelles de variation des différentes inconnues sont très différentes. Il s'agit d'équations qui sont en général difficiles d'approcher avec des schémas explicites d'ordre bas"
   ]
  },
  {
   "cell_type": "markdown",
   "metadata": {
    "deletable": false
   },
   "source": [
    "**Q1)** À l'image de ce que vous avez fait pour les schémas d'Euler explicite et de Heun dans le TP3, écrire une fonction python de la forme `RK4(fct, t0, tf, y0, h)` pour le schéma de Runge-Kutta 4."
   ]
  },
  {
   "cell_type": "code",
   "execution_count": 8,
   "metadata": {},
   "outputs": [],
   "source": [
    "def RK4(fct,t0,tf,y0,h):\n",
    "    \n"
   ]
  },
  {
   "cell_type": "markdown",
   "metadata": {
    "deletable": false
   },
   "source": [
    "**Q2)** Testez les différents schémas explicites (Euler, Heun et RK4) sur le système $P_2$. Que constatez-vous ?"
   ]
  },
  {
   "cell_type": "code",
   "execution_count": 12,
   "metadata": {},
   "outputs": [],
   "source": [
    "# <completer>\n"
   ]
  },
  {
   "cell_type": "markdown",
   "metadata": {
    "deletable": false
   },
   "source": [
    "Afin de voir le comportement de ces schémas face à un problème plus raide que le précédent, on résout l'équation  de Van der Pol $(P_3)$. Il s'agit d'un problème non linéaire qui n'a pas de solution analytique, il doit alors être résolu numériquement. \n",
    "\n",
    "**Q3)** Écrivez $(P_3)$ sous la forme d'un syst\\`eme différentiel de deux équations  d'ordre 1. \n",
    "\n"
   ]
  },
  {
   "cell_type": "markdown",
   "metadata": {
    "deletable": false
   },
   "source": [
    "**Q4)** Quels schémas donnent les meilleurs résultats lorsque l'on prend $a=8$, $t \\in [0, 20]$ et $h=0.1,\\, 0.05,\\, 0.025$ ? Tester tous les schémas explicites proposés."
   ]
  },
  {
   "cell_type": "code",
   "execution_count": 18,
   "metadata": {},
   "outputs": [],
   "source": [
    "# <completer>\n"
   ]
  },
  {
   "cell_type": "markdown",
   "metadata": {
    "deletable": false
   },
   "source": [
    "**Q5)** Recommencez avec \\(a=5\\)."
   ]
  },
  {
   "cell_type": "code",
   "execution_count": 19,
   "metadata": {},
   "outputs": [],
   "source": [
    "# <completer>\n"
   ]
  },
  {
   "cell_type": "code",
   "execution_count": null,
   "metadata": {},
   "outputs": [],
   "source": []
  }
 ],
 "metadata": {
  "celltoolbar": "None",
  "kernelspec": {
   "display_name": "Python 3",
   "language": "python",
   "name": "python3"
  },
  "language_info": {
   "codemirror_mode": {
    "name": "ipython",
    "version": 3
   },
   "file_extension": ".py",
   "mimetype": "text/x-python",
   "name": "python",
   "nbconvert_exporter": "python",
   "pygments_lexer": "ipython3",
   "version": "3.8.8"
  }
 },
 "nbformat": 4,
 "nbformat_minor": 2
}
