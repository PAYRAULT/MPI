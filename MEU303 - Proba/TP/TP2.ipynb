{
 "cells": [
  {
   "cell_type": "code",
   "execution_count": 6,
   "id": "19d6991c",
   "metadata": {},
   "outputs": [],
   "source": [
    "import numpy as np\n",
    "import matplotlib.pyplot as plt\n",
    "import numpy.random as random\n"
   ]
  },
  {
   "cell_type": "code",
   "execution_count": 2,
   "id": "b6a66d0b",
   "metadata": {},
   "outputs": [
    {
     "data": {
      "image/png": "[encoded data removed]",
      "text/plain": [
       "<Figure size 432x288 with 1 Axes>"
      ]
     },
     "metadata": {
      "needs_background": "light"
     },
     "output_type": "display_data"
    }
   ],
   "source": [
    "# Fonction de repartition Bernouilli\n",
    "p = 0.4\n",
    "x = np.arange(start=-10, stop=10, step=1)\n",
    "y = [1 if xe >= 1 else 0 if xe < 0 else (1-p) for xe in x]\n",
    "plt.step(x,y, where='post')\n",
    "plt.show()"
   ]
  },
  {
   "cell_type": "code",
   "execution_count": 5,
   "id": "d5ebe8e4",
   "metadata": {},
   "outputs": [
    {
     "data": {
      "image/png": "[encoded data removed]",
      "text/plain": [
       "<Figure size 432x288 with 1 Axes>"
      ]
     },
     "metadata": {
      "needs_background": "light"
     },
     "output_type": "display_data"
    }
   ],
   "source": [
    "# Fonction de repartition loi uniforme discrete\n",
    "x = [-3,1,2,3,4,5,6,9]\n",
    "a = 1\n",
    "n = 6\n",
    "y = [1 if xe > 6 else 0 if xe < 1 else (xe-a+1)/n for xe in x]\n",
    "plt.step(x,y, where='post')\n",
    "plt.show()"
   ]
  },
  {
   "cell_type": "code",
   "execution_count": 4,
   "id": "843cb593",
   "metadata": {},
   "outputs": [
    {
     "data": {
      "image/png": "[encoded data removed]",
      "text/plain": [
       "<Figure size 432x288 with 1 Axes>"
      ]
     },
     "metadata": {
      "needs_background": "light"
     },
     "output_type": "display_data"
    }
   ],
   "source": [
    "# Fonction de repartition loi uniforme continue entre [0,1]\n",
    "x = np.arange(-3., 3., 0.01)\n",
    "a = 0.0\n",
    "b = 1.0\n",
    "y = [1 if xe > b else 0 if xe < a else (xe-a)/(b-a) for xe in x]\n",
    "plt.plot(x,y)\n",
    "plt.show()"
   ]
  },
  {
   "cell_type": "code",
   "execution_count": 10,
   "id": "61f5253b",
   "metadata": {},
   "outputs": [],
   "source": [
    "#exercice 2.3\n",
    "def loi_exp(l):\n",
    "    x = random.random()\n",
    "    return l*np.power(np.e, -l*x)"
   ]
  },
  {
   "cell_type": "code",
   "execution_count": 13,
   "id": "ee5c9dbd",
   "metadata": {},
   "outputs": [
    {
     "data": {
      "text/plain": [
       "0.580335826009971"
      ]
     },
     "execution_count": 13,
     "metadata": {},
     "output_type": "execute_result"
    }
   ],
   "source": [
    "#exercice \n",
    "loi_exp(1)"
   ]
  },
  {
   "cell_type": "code",
   "execution_count": null,
   "id": "ac78dd89",
   "metadata": {},
   "outputs": [],
   "source": []
  }
 ],
 "metadata": {
  "kernelspec": {
   "display_name": "Python 3",
   "language": "python",
   "name": "python3"
  },
  "language_info": {
   "codemirror_mode": {
    "name": "ipython",
    "version": 3
   },
   "file_extension": ".py",
   "mimetype": "text/x-python",
   "name": "python",
   "nbconvert_exporter": "python",
   "pygments_lexer": "ipython3",
   "version": "3.8.8"
  }
 },
 "nbformat": 4,
 "nbformat_minor": 5
}
